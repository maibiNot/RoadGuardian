{
  "nbformat": 4,
  "nbformat_minor": 0,
  "metadata": {
    "colab": {
      "provenance": []
    },
    "kernelspec": {
      "name": "python3",
      "display_name": "Python 3"
    },
    "language_info": {
      "name": "python"
    }
  },
  "cells": [
    {
      "cell_type": "code",
      "execution_count": null,
      "metadata": {
        "id": "o1hin2ADg1-4",
        "colab": {
          "base_uri": "https://localhost:8080/"
        },
        "outputId": "f17811b8-5d95-4d0d-bdba-b36acaa0e4ea"
      },
      "outputs": [
        {
          "output_type": "stream",
          "name": "stdout",
          "text": [
            "Collecting playsound\n",
            "  Downloading playsound-1.3.0.tar.gz (7.7 kB)\n",
            "  Preparing metadata (setup.py) ... \u001b[?25l\u001b[?25hdone\n",
            "Building wheels for collected packages: playsound\n",
            "  Building wheel for playsound (setup.py) ... \u001b[?25l\u001b[?25hdone\n",
            "  Created wheel for playsound: filename=playsound-1.3.0-py3-none-any.whl size=7019 sha256=b85e457054b887b6274e2c5c47b2997c2d633faa9737fe923507688c4e3a4104\n",
            "  Stored in directory: /root/.cache/pip/wheels/90/89/ed/2d643f4226fc8c7c9156fc28abd8051e2d2c0de37ae51ac45c\n",
            "Successfully built playsound\n",
            "Installing collected packages: playsound\n",
            "Successfully installed playsound-1.3.0\n"
          ]
        }
      ],
      "source": [
        "!pip install playsound"
      ]
    },
    {
      "cell_type": "code",
      "source": [
        "from google.colab import drive\n",
        "drive.mount('/content/drive')"
      ],
      "metadata": {
        "colab": {
          "base_uri": "https://localhost:8080/"
        },
        "id": "tHrjfdCvhXin",
        "outputId": "2dd80081-f2ff-49ed-95f7-73ce9fb06974"
      },
      "execution_count": null,
      "outputs": [
        {
          "output_type": "stream",
          "name": "stdout",
          "text": [
            "Mounted at /content/drive\n"
          ]
        }
      ]
    },
    {
      "cell_type": "code",
      "source": [
        "from playsound import playsound\n",
        "import smtplib\n",
        "import ssl"
      ],
      "metadata": {
        "id": "qMZEoBIgikW-"
      },
      "execution_count": 11,
      "outputs": []
    },
    {
      "cell_type": "code",
      "source": [
        "from playsound import playsound\n",
        "import smtplib\n",
        "import ssl"
      ],
      "metadata": {
        "id": "MzujHT1KitZm"
      },
      "execution_count": null,
      "outputs": []
    },
    {
      "cell_type": "code",
      "source": [
        "def alarm_play():\n",
        "  playsound(\"./drive/MyDrive/RoadGuardian/Data/AlarmSound.mp3\")"
      ],
      "metadata": {
        "id": "3IS9KC3si7IV"
      },
      "execution_count": 12,
      "outputs": []
    },
    {
      "cell_type": "code",
      "source": [
        "def alert_send(username,emergency_contact,emergency_email):\n",
        "  sender_email = \"22.road.guardian@gmail.com\"\n",
        "  sender_password = \"random@1234\"\n",
        "  message = open(\"./drive/MyDrive/RoadGuardian/Data/alert_text.txt\").read().replace(\"CONTACT_NAME\",emergency_contact).replace(\"DRIVER_NAME\",username)\n",
        "  with smtplib.SMTP_SSL(host=\"stmp.gmail.com\",port = 465,context = ssl.create_default_context()) as server:\n",
        "    server.login(sender_email,sender_password)\n",
        "    server.sendmail(sender_email,emergency_email,message)\n",
        "\n",
        ""
      ],
      "metadata": {
        "id": "SJ6Ez5OFjOw0"
      },
      "execution_count": 13,
      "outputs": []
    },
    {
      "cell_type": "code",
      "source": [],
      "metadata": {
        "id": "rOKsBs4rnjuI"
      },
      "execution_count": null,
      "outputs": []
    }
  ]
}