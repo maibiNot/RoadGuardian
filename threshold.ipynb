{
  "nbformat": 4,
  "nbformat_minor": 0,
  "metadata": {
    "colab": {
      "provenance": []
    },
    "kernelspec": {
      "name": "python3",
      "display_name": "Python 3"
    },
    "language_info": {
      "name": "python"
    }
  },
  "cells": [
    {
      "cell_type": "code",
      "execution_count": 1,
      "metadata": {
        "id": "PJoP8JPhinU8"
      },
      "outputs": [],
      "source": [
        "FRAMES_PER_SECOND = 3\n",
        "YAWN_DURATION = 7"
      ]
    },
    {
      "cell_type": "code",
      "source": [
        "def blink_count_threshold(current_time,travel_duration):\n",
        "  threshold = FRAMES_PER_SECOND*(10/3)\n",
        "  if current_time.hour >= 22 or current_time.hour <= 5:\n",
        "    threshold-=1\n",
        "  if travel_duration.seconds >= 60*60*2.5 :\n",
        "    threshold-=1\n",
        "  return threshold"
      ],
      "metadata": {
        "id": "7w_uKpgXerYZ"
      },
      "execution_count": 4,
      "outputs": []
    },
    {
      "cell_type": "code",
      "source": [
        "def yawn_count_threshold(current_time,travel_duration):\n",
        "  threshold = FRAMES_PER_SECOND*YAWN_DURATION*3\n",
        "  if current_time.hour >= 22 or current_time.hour <= 5:\n",
        "    threshold-= FRAMES_PER_SECOND*YAWN_DURATION\n",
        "  if travel_duration.seconds >= 60*60*2.5:\n",
        "    threshold -= FRAMES_PER_SECOND*YAWN_DURATION\n",
        "  return threshold"
      ],
      "metadata": {
        "id": "dn98RAoufIUF"
      },
      "execution_count": 5,
      "outputs": []
    },
    {
      "cell_type": "code",
      "source": [],
      "metadata": {
        "id": "i_aPFVN3gQxt"
      },
      "execution_count": null,
      "outputs": []
    }
  ]
}