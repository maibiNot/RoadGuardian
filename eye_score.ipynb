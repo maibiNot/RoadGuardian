{
  "nbformat": 4,
  "nbformat_minor": 0,
  "metadata": {
    "colab": {
      "provenance": []
    },
    "kernelspec": {
      "name": "python3",
      "display_name": "Python 3"
    },
    "language_info": {
      "name": "python"
    }
  },
  "cells": [
    {
      "cell_type": "code",
      "execution_count": 1,
      "metadata": {
        "colab": {
          "base_uri": "https://localhost:8080/"
        },
        "id": "cHIZNuTfc4wP",
        "outputId": "5fd88164-0677-416a-c032-0e340475830c"
      },
      "outputs": [
        {
          "output_type": "stream",
          "name": "stdout",
          "text": [
            "Requirement already satisfied: scipy in /usr/local/lib/python3.10/dist-packages (1.11.3)\n",
            "Requirement already satisfied: numpy<1.28.0,>=1.21.6 in /usr/local/lib/python3.10/dist-packages (from scipy) (1.23.5)\n"
          ]
        }
      ],
      "source": [
        "!pip install scipy"
      ]
    },
    {
      "cell_type": "code",
      "source": [],
      "metadata": {
        "id": "7pTmLq3jdDog"
      },
      "execution_count": null,
      "outputs": []
    },
    {
      "cell_type": "code",
      "source": [
        "from google.colab import drive\n",
        "drive.mount('/content/drive')"
      ],
      "metadata": {
        "colab": {
          "base_uri": "https://localhost:8080/"
        },
        "id": "sq1H4cwadGPT",
        "outputId": "f5a51a02-0265-49eb-c5a6-f99f81b1070a"
      },
      "execution_count": 2,
      "outputs": [
        {
          "output_type": "stream",
          "name": "stdout",
          "text": [
            "Mounted at /content/drive\n"
          ]
        }
      ]
    },
    {
      "cell_type": "code",
      "source": [
        "from scipy.spatial import distance as dist"
      ],
      "metadata": {
        "id": "hlyDmbiHdY6s"
      },
      "execution_count": 3,
      "outputs": []
    },
    {
      "cell_type": "code",
      "source": [
        "def compute_eye_aspect_ratio(eye):\n",
        "  A = dist.euclidean(eye[1],eye[5])\n",
        "  B = dist.euclidean(eye[2],eye[4])\n",
        "  C = dist.euclidean(eye[0],eye[3])\n",
        "  return (A + B)/(2.0 * C)\n",
        "\n"
      ],
      "metadata": {
        "id": "0VZAZO9Tdbzh"
      },
      "execution_count": 4,
      "outputs": []
    },
    {
      "cell_type": "code",
      "source": [
        "def compute_average_eye_aspect_ratio_shape(shape):\n",
        "  left_eye = shape[42:48]\n",
        "  right_eye = shape[36:42]\n",
        "  left_eye_aspect_ratio = compute_eye_aspect_ratio(left_eye)\n",
        "  right_eye_aspect_ratio = compute_eye_aspect_ratio(right_eye)\n",
        "  return (left_eye + right_eye)/ 2.0\n"
      ],
      "metadata": {
        "id": "uHvuRdqYdvp3"
      },
      "execution_count": 5,
      "outputs": []
    },
    {
      "cell_type": "code",
      "source": [],
      "metadata": {
        "id": "DesCSt9MeMPO"
      },
      "execution_count": null,
      "outputs": []
    }
  ]
}